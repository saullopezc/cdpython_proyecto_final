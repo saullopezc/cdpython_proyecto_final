{
 "cells": [
  {
   "cell_type": "code",
   "execution_count": 1,
   "metadata": {},
   "outputs": [
    {
     "name": "stdout",
     "output_type": "stream",
     "text": [
      "Requirement already satisfied: boto3 in /opt/conda/lib/python3.11/site-packages (1.34.82)\n",
      "Requirement already satisfied: botocore<1.35.0,>=1.34.82 in /opt/conda/lib/python3.11/site-packages (from boto3) (1.34.82)\n",
      "Requirement already satisfied: jmespath<2.0.0,>=0.7.1 in /opt/conda/lib/python3.11/site-packages (from boto3) (1.0.1)\n",
      "Requirement already satisfied: s3transfer<0.11.0,>=0.10.0 in /opt/conda/lib/python3.11/site-packages (from boto3) (0.10.1)\n",
      "Requirement already satisfied: python-dateutil<3.0.0,>=2.1 in /opt/conda/lib/python3.11/site-packages (from botocore<1.35.0,>=1.34.82->boto3) (2.8.2)\n",
      "Requirement already satisfied: urllib3!=2.2.0,<3,>=1.25.4 in /opt/conda/lib/python3.11/site-packages (from botocore<1.35.0,>=1.34.82->boto3) (2.0.7)\n",
      "Requirement already satisfied: six>=1.5 in /opt/conda/lib/python3.11/site-packages (from python-dateutil<3.0.0,>=2.1->botocore<1.35.0,>=1.34.82->boto3) (1.16.0)\n",
      "Requirement already satisfied: pandas in /opt/conda/lib/python3.11/site-packages (2.1.1)\n",
      "Requirement already satisfied: numpy>=1.23.2 in /opt/conda/lib/python3.11/site-packages (from pandas) (1.24.4)\n",
      "Requirement already satisfied: python-dateutil>=2.8.2 in /opt/conda/lib/python3.11/site-packages (from pandas) (2.8.2)\n",
      "Requirement already satisfied: pytz>=2020.1 in /opt/conda/lib/python3.11/site-packages (from pandas) (2023.3.post1)\n",
      "Requirement already satisfied: tzdata>=2022.1 in /opt/conda/lib/python3.11/site-packages (from pandas) (2023.3)\n",
      "Requirement already satisfied: six>=1.5 in /opt/conda/lib/python3.11/site-packages (from python-dateutil>=2.8.2->pandas) (1.16.0)\n",
      "Requirement already satisfied: numpy in /opt/conda/lib/python3.11/site-packages (1.24.4)\n",
      "Requirement already satisfied: sqlalchemy in /opt/conda/lib/python3.11/site-packages (2.0.22)\n",
      "Requirement already satisfied: typing-extensions>=4.2.0 in /opt/conda/lib/python3.11/site-packages (from sqlalchemy) (4.8.0)\n",
      "Requirement already satisfied: greenlet!=0.4.17 in /opt/conda/lib/python3.11/site-packages (from sqlalchemy) (3.0.0)\n",
      "Requirement already satisfied: psycopg2 in /opt/conda/lib/python3.11/site-packages (2.9.9)\n",
      "Requirement already satisfied: pymysql in /opt/conda/lib/python3.11/site-packages (1.1.0)\n"
     ]
    }
   ],
   "source": [
    "!pip install boto3\n",
    "!pip install pandas\n",
    "!pip install numpy\n",
    "!pip install sqlalchemy\n",
    "!pip install psycopg2\n",
    "!pip install pymysql"
   ]
  },
  {
   "cell_type": "code",
   "execution_count": 2,
   "metadata": {},
   "outputs": [],
   "source": [
    "import boto3\n",
    "import pandas as pd\n",
    "import numpy as np\n",
    "import pymysql\n",
    "import psycopg2\n",
    "import configparser\n",
    "from sqlalchemy import create_engine\n"
   ]
  },
  {
   "cell_type": "code",
   "execution_count": 33,
   "metadata": {},
   "outputs": [
    {
     "name": "stdout",
     "output_type": "stream",
     "text": [
      "Archivo de configuración cargado correctamente.\n"
     ]
    },
    {
     "data": {
      "text/plain": [
       "<configparser.ConfigParser at 0x74a55c580410>"
      ]
     },
     "execution_count": 33,
     "metadata": {},
     "output_type": "execute_result"
    }
   ],
   "source": [
    "config = configparser.ConfigParser()\n",
    "try:\n",
    "    config.read('config.conf')\n",
    "    if not config.sections():\n",
    "        print(\"No se encontraron secciones en el archivo de configuración.\")\n",
    "    else:\n",
    "        print(\"Archivo de configuración cargado correctamente.\")\n",
    "except Exception as e:\n",
    "    print(\"Ocurrió un error al leer el archivo de configuración:\", e)\n",
    "config"
   ]
  },
  {
   "cell_type": "code",
   "execution_count": 34,
   "metadata": {},
   "outputs": [],
   "source": [
    "aws_rds_conn = boto3.client('rds',\n",
    "                             aws_access_key_id=config.get('IAM', 'ACCESS_KEY'),\n",
    "                             aws_secret_access_key=config.get('IAM', 'SECRET_ACCESS_KEY'),\n",
    "                             region_name=config.get('IAM', 'REGION'))\n",
    "\n"
   ]
  },
  {
   "cell_type": "code",
   "execution_count": 35,
   "metadata": {},
   "outputs": [],
   "source": [
    "aws_ec2_conn = boto3.client('ec2',\n",
    "                             aws_access_key_id=config.get('IAM', 'ACCESS_KEY'),\n",
    "                             aws_secret_access_key=config.get('IAM', 'SECRET_ACCESS_KEY'),\n",
    "                             region_name=config.get('IAM', 'REGION'))\n"
   ]
  },
  {
   "cell_type": "code",
   "execution_count": 10,
   "metadata": {},
   "outputs": [
    {
     "name": "stdout",
     "output_type": "stream",
     "text": [
      "{'DBInstance': {'DBInstanceIdentifier': 'transacc-market', 'DBInstanceClass': 'db.t3.micro', 'Engine': 'mysql', 'DBInstanceStatus': 'creating', 'MasterUsername': 'admin', 'DBName': 'market', 'AllocatedStorage': 20, 'PreferredBackupWindow': '10:10-10:40', 'BackupRetentionPeriod': 1, 'DBSecurityGroups': [], 'VpcSecurityGroups': [{'VpcSecurityGroupId': 'sg-095a5320e579c264c', 'Status': 'active'}], 'DBParameterGroups': [{'DBParameterGroupName': 'default.mysql8.0', 'ParameterApplyStatus': 'in-sync'}], 'DBSubnetGroup': {'DBSubnetGroupName': 'default', 'DBSubnetGroupDescription': 'default', 'VpcId': 'vpc-0d0097d620899bdc0', 'SubnetGroupStatus': 'Complete', 'Subnets': [{'SubnetIdentifier': 'subnet-00af2d95e956f0117', 'SubnetAvailabilityZone': {'Name': 'us-east-1f'}, 'SubnetOutpost': {}, 'SubnetStatus': 'Active'}, {'SubnetIdentifier': 'subnet-082fe405ea6cb9552', 'SubnetAvailabilityZone': {'Name': 'us-east-1b'}, 'SubnetOutpost': {}, 'SubnetStatus': 'Active'}, {'SubnetIdentifier': 'subnet-05898159a3872e35d', 'SubnetAvailabilityZone': {'Name': 'us-east-1c'}, 'SubnetOutpost': {}, 'SubnetStatus': 'Active'}, {'SubnetIdentifier': 'subnet-0de9641ee9d04af6c', 'SubnetAvailabilityZone': {'Name': 'us-east-1e'}, 'SubnetOutpost': {}, 'SubnetStatus': 'Active'}, {'SubnetIdentifier': 'subnet-0820ce12ac2c9576a', 'SubnetAvailabilityZone': {'Name': 'us-east-1a'}, 'SubnetOutpost': {}, 'SubnetStatus': 'Active'}, {'SubnetIdentifier': 'subnet-0b04c8750ed2b3018', 'SubnetAvailabilityZone': {'Name': 'us-east-1d'}, 'SubnetOutpost': {}, 'SubnetStatus': 'Active'}]}, 'PreferredMaintenanceWindow': 'sat:08:36-sat:09:06', 'PendingModifiedValues': {'MasterUserPassword': '****'}, 'MultiAZ': False, 'EngineVersion': '8.0.35', 'AutoMinorVersionUpgrade': True, 'ReadReplicaDBInstanceIdentifiers': [], 'LicenseModel': 'general-public-license', 'OptionGroupMemberships': [{'OptionGroupName': 'default:mysql-8-0', 'Status': 'in-sync'}], 'PubliclyAccessible': True, 'StorageType': 'gp2', 'DbInstancePort': 0, 'StorageEncrypted': False, 'DbiResourceId': 'db-JIIG6TLCUGIDVNO2TEDF3V6ZHA', 'CACertificateIdentifier': 'rds-ca-rsa2048-g1', 'DomainMemberships': [], 'CopyTagsToSnapshot': False, 'MonitoringInterval': 0, 'DBInstanceArn': 'arn:aws:rds:us-east-1:767397844370:db:transacc-market', 'IAMDatabaseAuthenticationEnabled': False, 'PerformanceInsightsEnabled': False, 'DeletionProtection': False, 'AssociatedRoles': [], 'TagList': [], 'CustomerOwnedIpEnabled': False, 'BackupTarget': 'region', 'NetworkType': 'IPV4', 'StorageThroughput': 0, 'CertificateDetails': {'CAIdentifier': 'rds-ca-rsa2048-g1'}, 'DedicatedLogVolume': False}, 'ResponseMetadata': {'RequestId': 'd131ff7b-1c74-4757-ad85-125fc25922c7', 'HTTPStatusCode': 200, 'HTTPHeaders': {'x-amzn-requestid': 'd131ff7b-1c74-4757-ad85-125fc25922c7', 'strict-transport-security': 'max-age=31536000', 'content-type': 'text/xml', 'content-length': '4048', 'date': 'Thu, 11 Apr 2024 06:19:57 GMT'}, 'RetryAttempts': 0}}\n"
     ]
    }
   ],
   "source": [
    "try:\n",
    "    response = aws_rds_conn.create_db_instance(\n",
    "        DBInstanceIdentifier=config.get('TRANSACC', 'DB_INSTANCE_ID'),\n",
    "        DBName=config.get('TRANSACC', 'DB_NAME'),\n",
    "        DBInstanceClass='db.t3.micro',\n",
    "        Engine='mysql',\n",
    "        MasterUsername=config.get('TRANSACC', 'DB_USER'),\n",
    "        MasterUserPassword=config.get('TRANSACC', 'DB_PASSWORD'),\n",
    "        Port=int(config.get('TRANSACC', 'DB_PORT')),\n",
    "        PubliclyAccessible=True,\n",
    "        VpcSecurityGroupIds=[config.get('VPC', 'SECURITY_GROUP')],\n",
    "        AllocatedStorage=20\n",
    "    )\n",
    "    print(response)\n",
    "except aws_rds_conn.exceptions.DBInstanceAlreadyExistsFault as ex:\n",
    "    print(\"La instancia de base de datos MySQL ya existe.\")\n",
    "except Exception as ex:\n",
    "    print(\"Error al crear la base de datos MySQL:\", ex)\n"
   ]
  },
  {
   "cell_type": "code",
   "execution_count": 20,
   "metadata": {},
   "outputs": [
    {
     "name": "stdout",
     "output_type": "stream",
     "text": [
      "{'DBInstance': {'DBInstanceIdentifier': 'dwh-market', 'DBInstanceClass': 'db.t3.micro', 'Engine': 'postgres', 'DBInstanceStatus': 'creating', 'MasterUsername': 'postgresql', 'DBName': 'dwh_market', 'AllocatedStorage': 20, 'PreferredBackupWindow': '09:30-10:00', 'BackupRetentionPeriod': 1, 'DBSecurityGroups': [], 'VpcSecurityGroups': [{'VpcSecurityGroupId': 'sg-095a5320e579c264c', 'Status': 'active'}], 'DBParameterGroups': [{'DBParameterGroupName': 'default.postgres16', 'ParameterApplyStatus': 'in-sync'}], 'DBSubnetGroup': {'DBSubnetGroupName': 'default', 'DBSubnetGroupDescription': 'default', 'VpcId': 'vpc-0d0097d620899bdc0', 'SubnetGroupStatus': 'Complete', 'Subnets': [{'SubnetIdentifier': 'subnet-00af2d95e956f0117', 'SubnetAvailabilityZone': {'Name': 'us-east-1f'}, 'SubnetOutpost': {}, 'SubnetStatus': 'Active'}, {'SubnetIdentifier': 'subnet-082fe405ea6cb9552', 'SubnetAvailabilityZone': {'Name': 'us-east-1b'}, 'SubnetOutpost': {}, 'SubnetStatus': 'Active'}, {'SubnetIdentifier': 'subnet-05898159a3872e35d', 'SubnetAvailabilityZone': {'Name': 'us-east-1c'}, 'SubnetOutpost': {}, 'SubnetStatus': 'Active'}, {'SubnetIdentifier': 'subnet-0de9641ee9d04af6c', 'SubnetAvailabilityZone': {'Name': 'us-east-1e'}, 'SubnetOutpost': {}, 'SubnetStatus': 'Active'}, {'SubnetIdentifier': 'subnet-0820ce12ac2c9576a', 'SubnetAvailabilityZone': {'Name': 'us-east-1a'}, 'SubnetOutpost': {}, 'SubnetStatus': 'Active'}, {'SubnetIdentifier': 'subnet-0b04c8750ed2b3018', 'SubnetAvailabilityZone': {'Name': 'us-east-1d'}, 'SubnetOutpost': {}, 'SubnetStatus': 'Active'}]}, 'PreferredMaintenanceWindow': 'fri:08:21-fri:08:51', 'PendingModifiedValues': {'MasterUserPassword': '****'}, 'MultiAZ': False, 'EngineVersion': '16.1', 'AutoMinorVersionUpgrade': True, 'ReadReplicaDBInstanceIdentifiers': [], 'LicenseModel': 'postgresql-license', 'OptionGroupMemberships': [{'OptionGroupName': 'default:postgres-16', 'Status': 'in-sync'}], 'PubliclyAccessible': True, 'StorageType': 'gp2', 'DbInstancePort': 0, 'StorageEncrypted': False, 'DbiResourceId': 'db-4JHGAV5ZQEEDWL3DCAUL3EZGJQ', 'CACertificateIdentifier': 'rds-ca-rsa2048-g1', 'DomainMemberships': [], 'CopyTagsToSnapshot': False, 'MonitoringInterval': 0, 'DBInstanceArn': 'arn:aws:rds:us-east-1:767397844370:db:dwh-market', 'IAMDatabaseAuthenticationEnabled': False, 'PerformanceInsightsEnabled': False, 'DeletionProtection': False, 'AssociatedRoles': [], 'TagList': [], 'CustomerOwnedIpEnabled': False, 'BackupTarget': 'region', 'NetworkType': 'IPV4', 'StorageThroughput': 0, 'CertificateDetails': {'CAIdentifier': 'rds-ca-rsa2048-g1'}, 'DedicatedLogVolume': False}, 'ResponseMetadata': {'RequestId': 'd4a11b2b-f15a-4dbb-a23f-44619f4c32e8', 'HTTPStatusCode': 200, 'HTTPHeaders': {'x-amzn-requestid': 'd4a11b2b-f15a-4dbb-a23f-44619f4c32e8', 'strict-transport-security': 'max-age=31536000', 'content-type': 'text/xml', 'content-length': '4048', 'date': 'Thu, 11 Apr 2024 06:21:58 GMT'}, 'RetryAttempts': 0}}\n"
     ]
    }
   ],
   "source": [
    "# Crear la base de datos PostgreSQL para DWH\n",
    "try:\n",
    "    response = aws_rds_conn.create_db_instance(\n",
    "        DBInstanceIdentifier=config.get('DWH', 'DB_INSTANCE_ID'),\n",
    "        DBName=config.get('DWH', 'DB_NAME'),\n",
    "        DBInstanceClass='db.t3.micro',\n",
    "        Engine='postgres',\n",
    "        MasterUsername=config.get('DWH', 'DB_USER'),\n",
    "        MasterUserPassword=config.get('DWH', 'DB_PASSWORD'),\n",
    "        Port=int(config.get('DWH', 'DB_PORT')),\n",
    "        PubliclyAccessible=True,\n",
    "        VpcSecurityGroupIds=[config.get('VPC', 'SECURITY_GROUP')],\n",
    "        AllocatedStorage=20\n",
    "    )\n",
    "    print(response)\n",
    "except aws_rds_conn.exceptions.DBInstanceAlreadyExistsFault as ex:\n",
    "    print(\"La instancia de base de datos PostgreSQL ya existe.\")\n",
    "except Exception as ex:\n",
    "    print(\"Error al crear la base de datos PostgreSQL:\", ex)\n"
   ]
  },
  {
   "cell_type": "code",
   "execution_count": 28,
   "metadata": {},
   "outputs": [
    {
     "name": "stdout",
     "output_type": "stream",
     "text": [
      "Key pair \"key-pair-project\" creado exitosamente.\n",
      "Clave privada guardada en: key-pair-project.pem\n"
     ]
    }
   ],
   "source": [
    "def generate_key_pair(key_name):    \n",
    "    ec2_client = boto3.client('ec2',\n",
    "                              aws_access_key_id=config.get('IAM', 'ACCESS_KEY'),\n",
    "                              aws_secret_access_key=config.get('IAM', 'SECRET_ACCESS_KEY'),\n",
    "                              region_name=config.get('IAM', 'REGION'))\n",
    "    \n",
    "    try:\n",
    "        key_pair = ec2_client.create_key_pair(KeyName=key_name)\n",
    "        private_key = key_pair['KeyMaterial']\n",
    "        \n",
    "        # Guardar la clave privada en un archivo\n",
    "        with open(f'{key_name}.pem', 'w') as file:\n",
    "            file.write(private_key)\n",
    "        \n",
    "        print(f'Key pair \"{key_name}\" creado exitosamente.')\n",
    "        print(f'Clave privada guardada en: {key_name}.pem')\n",
    "    \n",
    "    except ec2_client.exceptions.ClientError as e:\n",
    "        if 'InvalidKeyPair.Duplicate' in str(e):\n",
    "            print(f'El key pair \"{key_name}\" ya existe.')\n",
    "        else:\n",
    "            print('Error al crear el key pair:', e)\n",
    "\n",
    "\n",
    "# Nombre del key pair a generar\n",
    "key_name = 'key-pair-project'\n",
    "\n",
    "# Generar el key pair\n",
    "generate_key_pair(key_name)"
   ]
  },
  {
   "cell_type": "code",
   "execution_count": 36,
   "metadata": {},
   "outputs": [
    {
     "name": "stdout",
     "output_type": "stream",
     "text": [
      "Instancia EC2 creada con ID: i-00d9271280e541f4a\n"
     ]
    }
   ],
   "source": [
    "try:\n",
    "    response = aws_ec2_conn.run_instances(\n",
    "        ImageId=config.get('EC2', 'IMAGE_ID'),\n",
    "        InstanceType='t2.micro',\n",
    "        KeyName=config.get('EC2', 'KEY_PAIR'),\n",
    "        MinCount=1,\n",
    "        MaxCount=1,\n",
    "        SecurityGroupIds=[config.get('VPC', 'SECURITY_GROUP')]\n",
    "    )\n",
    "    instance_id = response['Instances'][0]['InstanceId']\n",
    "    print(\"Instancia EC2 creada con ID:\", instance_id)\n",
    "except Exception as ex:\n",
    "    print(\"Error al crear la instancia EC2:\", ex)\n"
   ]
  },
  {
   "cell_type": "code",
   "execution_count": 37,
   "metadata": {},
   "outputs": [
    {
     "name": "stdout",
     "output_type": "stream",
     "text": [
      "Hostname de la base de datos MySQL: transacc-market.cvys8o2w4r4x.us-east-1.rds.amazonaws.com\n"
     ]
    }
   ],
   "source": [
    "try:\n",
    "    instance = aws_rds_conn.describe_db_instances(DBInstanceIdentifier=config.get('TRANSACC', 'DB_INSTANCE_ID'))\n",
    "    mysql_hostname = instance.get('DBInstances')[0].get('Endpoint').get('Address')\n",
    "    print(\"Hostname de la base de datos MySQL:\", mysql_hostname)\n",
    "except Exception as ex:\n",
    "    print(\"Error al obtener el hostname de la base de datos MySQL:\", ex)\n"
   ]
  },
  {
   "cell_type": "code",
   "execution_count": 38,
   "metadata": {},
   "outputs": [
    {
     "name": "stdout",
     "output_type": "stream",
     "text": [
      "Hostname de la base de datos PostgreSQL: dwh-market.cvys8o2w4r4x.us-east-1.rds.amazonaws.com\n"
     ]
    }
   ],
   "source": [
    "try:\n",
    "    instance = aws_rds_conn.describe_db_instances(DBInstanceIdentifier=config.get('DWH', 'DB_INSTANCE_ID'))\n",
    "    postgresql_hostname = instance.get('DBInstances')[0].get('Endpoint').get('Address')\n",
    "    print(\"Hostname de la base de datos PostgreSQL:\", postgresql_hostname)\n",
    "except Exception as ex:\n",
    "    print(\"Error al obtener el hostname de la base de datos PostgreSQL:\", ex)\n",
    "    "
   ]
  },
  {
   "cell_type": "code",
   "execution_count": 39,
   "metadata": {},
   "outputs": [
    {
     "name": "stdout",
     "output_type": "stream",
     "text": [
      "{'DBInstance': {'DBInstanceIdentifier': 'transacc-market', 'DBInstanceClass': 'db.t3.micro', 'Engine': 'mysql', 'DBInstanceStatus': 'deleting', 'MasterUsername': 'admin', 'DBName': 'market', 'Endpoint': {'Address': 'transacc-market.cvys8o2w4r4x.us-east-1.rds.amazonaws.com', 'Port': 3306, 'HostedZoneId': 'Z2R2ITUGPM61AM'}, 'AllocatedStorage': 20, 'InstanceCreateTime': datetime.datetime(2024, 4, 11, 6, 24, 35, 399000, tzinfo=tzlocal()), 'PreferredBackupWindow': '10:10-10:40', 'BackupRetentionPeriod': 1, 'DBSecurityGroups': [], 'VpcSecurityGroups': [{'VpcSecurityGroupId': 'sg-095a5320e579c264c', 'Status': 'active'}], 'DBParameterGroups': [{'DBParameterGroupName': 'default.mysql8.0', 'ParameterApplyStatus': 'in-sync'}], 'AvailabilityZone': 'us-east-1f', 'DBSubnetGroup': {'DBSubnetGroupName': 'default', 'DBSubnetGroupDescription': 'default', 'VpcId': 'vpc-0d0097d620899bdc0', 'SubnetGroupStatus': 'Complete', 'Subnets': [{'SubnetIdentifier': 'subnet-00af2d95e956f0117', 'SubnetAvailabilityZone': {'Name': 'us-east-1f'}, 'SubnetOutpost': {}, 'SubnetStatus': 'Active'}, {'SubnetIdentifier': 'subnet-082fe405ea6cb9552', 'SubnetAvailabilityZone': {'Name': 'us-east-1b'}, 'SubnetOutpost': {}, 'SubnetStatus': 'Active'}, {'SubnetIdentifier': 'subnet-05898159a3872e35d', 'SubnetAvailabilityZone': {'Name': 'us-east-1c'}, 'SubnetOutpost': {}, 'SubnetStatus': 'Active'}, {'SubnetIdentifier': 'subnet-0de9641ee9d04af6c', 'SubnetAvailabilityZone': {'Name': 'us-east-1e'}, 'SubnetOutpost': {}, 'SubnetStatus': 'Active'}, {'SubnetIdentifier': 'subnet-0820ce12ac2c9576a', 'SubnetAvailabilityZone': {'Name': 'us-east-1a'}, 'SubnetOutpost': {}, 'SubnetStatus': 'Active'}, {'SubnetIdentifier': 'subnet-0b04c8750ed2b3018', 'SubnetAvailabilityZone': {'Name': 'us-east-1d'}, 'SubnetOutpost': {}, 'SubnetStatus': 'Active'}]}, 'PreferredMaintenanceWindow': 'sat:08:36-sat:09:06', 'PendingModifiedValues': {}, 'LatestRestorableTime': datetime.datetime(2024, 4, 11, 6, 35, tzinfo=tzlocal()), 'MultiAZ': False, 'EngineVersion': '8.0.35', 'AutoMinorVersionUpgrade': True, 'ReadReplicaDBInstanceIdentifiers': [], 'LicenseModel': 'general-public-license', 'OptionGroupMemberships': [{'OptionGroupName': 'default:mysql-8-0', 'Status': 'in-sync'}], 'PubliclyAccessible': True, 'StorageType': 'gp2', 'DbInstancePort': 0, 'StorageEncrypted': False, 'DbiResourceId': 'db-JIIG6TLCUGIDVNO2TEDF3V6ZHA', 'CACertificateIdentifier': '', 'DomainMemberships': [], 'CopyTagsToSnapshot': False, 'MonitoringInterval': 0, 'DBInstanceArn': 'arn:aws:rds:us-east-1:767397844370:db:transacc-market', 'IAMDatabaseAuthenticationEnabled': False, 'PerformanceInsightsEnabled': False, 'DeletionProtection': False, 'AssociatedRoles': [], 'TagList': [], 'CustomerOwnedIpEnabled': False, 'BackupTarget': 'region', 'NetworkType': 'IPV4', 'StorageThroughput': 0, 'DedicatedLogVolume': False}, 'ResponseMetadata': {'RequestId': '8a99e3a3-abdb-403e-ae65-e6161538b22e', 'HTTPStatusCode': 200, 'HTTPHeaders': {'x-amzn-requestid': '8a99e3a3-abdb-403e-ae65-e6161538b22e', 'strict-transport-security': 'max-age=31536000', 'content-type': 'text/xml', 'content-length': '4184', 'date': 'Thu, 11 Apr 2024 06:37:39 GMT'}, 'RetryAttempts': 0}}\n"
     ]
    }
   ],
   "source": [
    "# Eliminar la base de datos MySQL de transacciones\n",
    "try:\n",
    "    response = aws_rds_conn.delete_db_instance(\n",
    "        DBInstanceIdentifier=config.get('TRANSACC', 'DB_INSTANCE_ID'),\n",
    "        SkipFinalSnapshot=True\n",
    "    )\n",
    "    print(response)\n",
    "except Exception as ex:\n",
    "    print(\"Error al eliminar la base de datos MySQL:\", ex)\n"
   ]
  },
  {
   "cell_type": "code",
   "execution_count": 40,
   "metadata": {},
   "outputs": [
    {
     "name": "stdout",
     "output_type": "stream",
     "text": [
      "{'DBInstance': {'DBInstanceIdentifier': 'dwh-market', 'DBInstanceClass': 'db.t3.micro', 'Engine': 'postgres', 'DBInstanceStatus': 'deleting', 'MasterUsername': 'postgresql', 'DBName': 'dwh_market', 'Endpoint': {'Address': 'dwh-market.cvys8o2w4r4x.us-east-1.rds.amazonaws.com', 'Port': 5432, 'HostedZoneId': 'Z2R2ITUGPM61AM'}, 'AllocatedStorage': 20, 'InstanceCreateTime': datetime.datetime(2024, 4, 11, 6, 25, 50, 674000, tzinfo=tzlocal()), 'PreferredBackupWindow': '09:30-10:00', 'BackupRetentionPeriod': 1, 'DBSecurityGroups': [], 'VpcSecurityGroups': [{'VpcSecurityGroupId': 'sg-095a5320e579c264c', 'Status': 'active'}], 'DBParameterGroups': [{'DBParameterGroupName': 'default.postgres16', 'ParameterApplyStatus': 'in-sync'}], 'AvailabilityZone': 'us-east-1c', 'DBSubnetGroup': {'DBSubnetGroupName': 'default', 'DBSubnetGroupDescription': 'default', 'VpcId': 'vpc-0d0097d620899bdc0', 'SubnetGroupStatus': 'Complete', 'Subnets': [{'SubnetIdentifier': 'subnet-00af2d95e956f0117', 'SubnetAvailabilityZone': {'Name': 'us-east-1f'}, 'SubnetOutpost': {}, 'SubnetStatus': 'Active'}, {'SubnetIdentifier': 'subnet-082fe405ea6cb9552', 'SubnetAvailabilityZone': {'Name': 'us-east-1b'}, 'SubnetOutpost': {}, 'SubnetStatus': 'Active'}, {'SubnetIdentifier': 'subnet-05898159a3872e35d', 'SubnetAvailabilityZone': {'Name': 'us-east-1c'}, 'SubnetOutpost': {}, 'SubnetStatus': 'Active'}, {'SubnetIdentifier': 'subnet-0de9641ee9d04af6c', 'SubnetAvailabilityZone': {'Name': 'us-east-1e'}, 'SubnetOutpost': {}, 'SubnetStatus': 'Active'}, {'SubnetIdentifier': 'subnet-0820ce12ac2c9576a', 'SubnetAvailabilityZone': {'Name': 'us-east-1a'}, 'SubnetOutpost': {}, 'SubnetStatus': 'Active'}, {'SubnetIdentifier': 'subnet-0b04c8750ed2b3018', 'SubnetAvailabilityZone': {'Name': 'us-east-1d'}, 'SubnetOutpost': {}, 'SubnetStatus': 'Active'}]}, 'PreferredMaintenanceWindow': 'fri:08:21-fri:08:51', 'PendingModifiedValues': {}, 'LatestRestorableTime': datetime.datetime(2024, 4, 11, 6, 35, 1, tzinfo=tzlocal()), 'MultiAZ': False, 'EngineVersion': '16.1', 'AutoMinorVersionUpgrade': True, 'ReadReplicaDBInstanceIdentifiers': [], 'LicenseModel': 'postgresql-license', 'OptionGroupMemberships': [{'OptionGroupName': 'default:postgres-16', 'Status': 'in-sync'}], 'PubliclyAccessible': True, 'StorageType': 'gp2', 'DbInstancePort': 0, 'StorageEncrypted': False, 'DbiResourceId': 'db-4JHGAV5ZQEEDWL3DCAUL3EZGJQ', 'CACertificateIdentifier': '', 'DomainMemberships': [], 'CopyTagsToSnapshot': False, 'MonitoringInterval': 0, 'DBInstanceArn': 'arn:aws:rds:us-east-1:767397844370:db:dwh-market', 'IAMDatabaseAuthenticationEnabled': False, 'PerformanceInsightsEnabled': False, 'DeletionProtection': False, 'AssociatedRoles': [], 'TagList': [], 'CustomerOwnedIpEnabled': False, 'BackupTarget': 'region', 'NetworkType': 'IPV4', 'StorageThroughput': 0, 'DedicatedLogVolume': False}, 'ResponseMetadata': {'RequestId': '9fbf8375-e955-4ae7-bd2c-c372cd7dbb89', 'HTTPStatusCode': 200, 'HTTPHeaders': {'x-amzn-requestid': '9fbf8375-e955-4ae7-bd2c-c372cd7dbb89', 'strict-transport-security': 'max-age=31536000', 'content-type': 'text/xml', 'content-length': '4179', 'date': 'Thu, 11 Apr 2024 06:37:47 GMT'}, 'RetryAttempts': 0}}\n"
     ]
    }
   ],
   "source": [
    "# Eliminar la base de datos PostgreSQL para DWH\n",
    "try:\n",
    "    response = aws_rds_conn.delete_db_instance(\n",
    "        DBInstanceIdentifier=config.get('DWH', 'DB_INSTANCE_ID'),\n",
    "        SkipFinalSnapshot=True\n",
    "    )\n",
    "    print(response)\n",
    "except Exception as ex:\n",
    "    print(\"Error al eliminar la base de datos PostgreSQL:\", ex)\n",
    "\n"
   ]
  },
  {
   "cell_type": "code",
   "execution_count": 41,
   "metadata": {},
   "outputs": [
    {
     "name": "stdout",
     "output_type": "stream",
     "text": [
      "{'TerminatingInstances': [{'CurrentState': {'Code': 32, 'Name': 'shutting-down'}, 'InstanceId': 'i-00d9271280e541f4a', 'PreviousState': {'Code': 16, 'Name': 'running'}}], 'ResponseMetadata': {'RequestId': 'c24ad799-3524-4287-98ad-be3289bd391c', 'HTTPStatusCode': 200, 'HTTPHeaders': {'x-amzn-requestid': 'c24ad799-3524-4287-98ad-be3289bd391c', 'cache-control': 'no-cache, no-store', 'strict-transport-security': 'max-age=31536000; includeSubDomains', 'content-type': 'text/xml;charset=UTF-8', 'content-length': '594', 'date': 'Thu, 11 Apr 2024 06:37:50 GMT', 'server': 'AmazonEC2'}, 'RetryAttempts': 0}}\n"
     ]
    }
   ],
   "source": [
    "# Eliminar la instancia EC2\n",
    "try:\n",
    "    response = aws_ec2_conn.terminate_instances(\n",
    "        InstanceIds=[instance_id]\n",
    "    )\n",
    "    print(response)\n",
    "except Exception as ex:\n",
    "    print(\"Error al eliminar la instancia EC2:\", ex)"
   ]
  },
  {
   "cell_type": "code",
   "execution_count": 42,
   "metadata": {},
   "outputs": [
    {
     "name": "stdout",
     "output_type": "stream",
     "text": [
      "{'Return': True, 'KeyPairId': 'key-06954ef689b2fb5bf', 'ResponseMetadata': {'RequestId': 'acace98c-5cde-4368-a68d-443a2c5c80eb', 'HTTPStatusCode': 200, 'HTTPHeaders': {'x-amzn-requestid': 'acace98c-5cde-4368-a68d-443a2c5c80eb', 'cache-control': 'no-cache, no-store', 'strict-transport-security': 'max-age=31536000; includeSubDomains', 'content-type': 'text/xml;charset=UTF-8', 'content-length': '276', 'date': 'Thu, 11 Apr 2024 06:38:08 GMT', 'server': 'AmazonEC2'}, 'RetryAttempts': 0}}\n"
     ]
    }
   ],
   "source": [
    "try:\n",
    "    response = aws_ec2_conn.delete_key_pair(\n",
    "        KeyName=config.get('EC2', 'KEY_PAIR')\n",
    "    )\n",
    "    print(response)\n",
    "except Exception as ex:\n",
    "    print(\"Error al eliminar el par de claves:\", ex)"
   ]
  }
 ],
 "metadata": {
  "kernelspec": {
   "display_name": "Python 3 (ipykernel)",
   "language": "python",
   "name": "python3"
  },
  "language_info": {
   "codemirror_mode": {
    "name": "ipython",
    "version": 3
   },
   "file_extension": ".py",
   "mimetype": "text/x-python",
   "name": "python",
   "nbconvert_exporter": "python",
   "pygments_lexer": "ipython3",
   "version": "3.11.6"
  }
 },
 "nbformat": 4,
 "nbformat_minor": 4
}
