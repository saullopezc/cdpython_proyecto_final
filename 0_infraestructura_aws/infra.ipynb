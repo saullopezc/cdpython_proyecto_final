{
 "cells": [
  {
   "cell_type": "code",
   "execution_count": null,
   "metadata": {},
   "outputs": [],
   "source": [
    "!pip install boto3\n",
    "!pip install pandas\n",
    "!pip install numpy\n",
    "!pip install sqlalchemy\n",
    "!pip install psycopg2\n",
    "!pip install pymysql"
   ]
  },
  {
   "cell_type": "code",
   "execution_count": null,
   "metadata": {},
   "outputs": [],
   "source": [
    "import boto3\n",
    "import pandas as pd\n",
    "import numpy as np\n",
    "import pymysql\n",
    "import psycopg2\n",
    "import configparser\n",
    "from sqlalchemy import create_engine\n"
   ]
  },
  {
   "cell_type": "code",
   "execution_count": null,
   "metadata": {},
   "outputs": [],
   "source": [
    "config = configparser.ConfigParser()\n",
    "try:\n",
    "    config.read('../config.conf')\n",
    "    if not config.sections():\n",
    "        print(\"No se encontraron secciones en el archivo de configuración.\")\n",
    "    else:\n",
    "        print(\"Archivo de configuración cargado correctamente.\")\n",
    "except Exception as e:\n",
    "    print(\"Ocurrió un error al leer el archivo de configuración:\", e)\n",
    "config"
   ]
  },
  {
   "cell_type": "code",
   "execution_count": null,
   "metadata": {},
   "outputs": [],
   "source": [
    "aws_rds_conn = boto3.client('rds',\n",
    "                             aws_access_key_id=config.get('IAM', 'ACCESS_KEY'),\n",
    "                             aws_secret_access_key=config.get('IAM', 'SECRET_ACCESS_KEY'),\n",
    "                             region_name=config.get('IAM', 'REGION'))\n",
    "\n"
   ]
  },
  {
   "cell_type": "code",
   "execution_count": null,
   "metadata": {},
   "outputs": [],
   "source": [
    "aws_ec2_conn = boto3.client('ec2',\n",
    "                             aws_access_key_id=config.get('IAM', 'ACCESS_KEY'),\n",
    "                             aws_secret_access_key=config.get('IAM', 'SECRET_ACCESS_KEY'),\n",
    "                             region_name=config.get('IAM', 'REGION'))\n"
   ]
  },
  {
   "cell_type": "code",
   "execution_count": null,
   "metadata": {},
   "outputs": [],
   "source": [
    "try:\n",
    "    response = aws_rds_conn.create_db_instance(\n",
    "        DBInstanceIdentifier=config.get('TRANSACC', 'DB_INSTANCE_ID'),\n",
    "        DBName=config.get('TRANSACC', 'DB_NAME'),\n",
    "        DBInstanceClass='db.t3.micro',\n",
    "        Engine='mysql',\n",
    "        MasterUsername=config.get('TRANSACC', 'DB_USER'),\n",
    "        MasterUserPassword=config.get('TRANSACC', 'DB_PASSWORD'),\n",
    "        Port=int(config.get('TRANSACC', 'DB_PORT')),\n",
    "        PubliclyAccessible=True,\n",
    "        VpcSecurityGroupIds=[config.get('VPC', 'SECURITY_GROUP')],\n",
    "        AllocatedStorage=20\n",
    "    )\n",
    "    print(response)\n",
    "except aws_rds_conn.exceptions.DBInstanceAlreadyExistsFault as ex:\n",
    "    print(\"La instancia de base de datos MySQL ya existe.\")\n",
    "except Exception as ex:\n",
    "    print(\"Error al crear la base de datos MySQL:\", ex)\n"
   ]
  },
  {
   "cell_type": "code",
   "execution_count": null,
   "metadata": {},
   "outputs": [],
   "source": [
    "# Crear la base de datos PostgreSQL para DWH\n",
    "try:\n",
    "    response = aws_rds_conn.create_db_instance(\n",
    "        DBInstanceIdentifier=config.get('DWH', 'DB_INSTANCE_ID'),\n",
    "        DBName=config.get('DWH', 'DB_NAME'),\n",
    "        DBInstanceClass='db.t3.micro',\n",
    "        Engine='postgres',\n",
    "        MasterUsername=config.get('DWH', 'DB_USER'),\n",
    "        MasterUserPassword=config.get('DWH', 'DB_PASSWORD'),\n",
    "        Port=int(config.get('DWH', 'DB_PORT')),\n",
    "        PubliclyAccessible=True,\n",
    "        VpcSecurityGroupIds=[config.get('VPC', 'SECURITY_GROUP')],\n",
    "        AllocatedStorage=20\n",
    "    )\n",
    "    print(response)\n",
    "except aws_rds_conn.exceptions.DBInstanceAlreadyExistsFault as ex:\n",
    "    print(\"La instancia de base de datos PostgreSQL ya existe.\")\n",
    "except Exception as ex:\n",
    "    print(\"Error al crear la base de datos PostgreSQL:\", ex)\n"
   ]
  },
  {
   "cell_type": "code",
   "execution_count": null,
   "metadata": {},
   "outputs": [],
   "source": [
    "def generate_key_pair(key_name):    \n",
    "    ec2_client = boto3.client('ec2',\n",
    "                              aws_access_key_id=config.get('IAM', 'ACCESS_KEY'),\n",
    "                              aws_secret_access_key=config.get('IAM', 'SECRET_ACCESS_KEY'),\n",
    "                              region_name=config.get('IAM', 'REGION'))\n",
    "    \n",
    "    try:\n",
    "        key_pair = ec2_client.create_key_pair(KeyName=key_name)\n",
    "        private_key = key_pair['KeyMaterial']\n",
    "        \n",
    "        # Guardar la clave privada en un archivo\n",
    "        with open(f'{key_name}.pem', 'w') as file:\n",
    "            file.write(private_key)\n",
    "        \n",
    "        print(f'Key pair \"{key_name}\" creado exitosamente.')\n",
    "        print(f'Clave privada guardada en: {key_name}.pem')\n",
    "    \n",
    "    except ec2_client.exceptions.ClientError as e:\n",
    "        if 'InvalidKeyPair.Duplicate' in str(e):\n",
    "            print(f'El key pair \"{key_name}\" ya existe.')\n",
    "        else:\n",
    "            print('Error al crear el key pair:', e)\n",
    "\n",
    "\n",
    "# Nombre del key pair a generar\n",
    "key_name = 'key-pair-project'\n",
    "\n",
    "# Generar el key pair\n",
    "generate_key_pair(key_name)"
   ]
  },
  {
   "cell_type": "code",
   "execution_count": null,
   "metadata": {},
   "outputs": [],
   "source": [
    "print(key_name)"
   ]
  },
  {
   "cell_type": "code",
   "execution_count": null,
   "metadata": {},
   "outputs": [],
   "source": [
    "try:\n",
    "    response = aws_ec2_conn.run_instances(\n",
    "        ImageId=config.get('EC2', 'IMAGE_ID'),\n",
    "        InstanceType='t2.micro',\n",
    "        KeyName=key_name,\n",
    "        MinCount=1,\n",
    "        MaxCount=1,\n",
    "        SecurityGroupIds=[config.get('VPC', 'SECURITY_GROUP')]\n",
    "    )\n",
    "    instance_id = response['Instances'][0]['InstanceId']\n",
    "    print(\"Instancia EC2 creada con ID:\", instance_id)\n",
    "except Exception as ex:\n",
    "    print(\"Error al crear la instancia EC2:\", ex)\n"
   ]
  },
  {
   "cell_type": "code",
   "execution_count": null,
   "metadata": {},
   "outputs": [],
   "source": [
    "try:\n",
    "    instance = aws_rds_conn.describe_db_instances(DBInstanceIdentifier=config.get('TRANSACC', 'DB_INSTANCE_ID'))\n",
    "    mysql_hostname = instance.get('DBInstances')[0].get('Endpoint').get('Address')\n",
    "    print(\"Hostname de la base de datos MySQL:\", mysql_hostname)\n",
    "except Exception as ex:\n",
    "    print(\"Error al obtener el hostname de la base de datos MySQL:\", ex)\n"
   ]
  },
  {
   "cell_type": "code",
   "execution_count": null,
   "metadata": {},
   "outputs": [],
   "source": [
    "try:\n",
    "    instance = aws_rds_conn.describe_db_instances(DBInstanceIdentifier=config.get('DWH', 'DB_INSTANCE_ID'))\n",
    "    postgresql_hostname = instance.get('DBInstances')[0].get('Endpoint').get('Address')\n",
    "    print(\"Hostname de la base de datos PostgreSQL:\", postgresql_hostname)\n",
    "except Exception as ex:\n",
    "    print(\"Error al obtener el hostname de la base de datos PostgreSQL:\", ex)\n",
    "    "
   ]
  },
  {
   "cell_type": "markdown",
   "metadata": {},
   "source": [
    "### Agregar informacion a archivo JSON para usarlo a traves de los Notebooks"
   ]
  },
  {
   "cell_type": "code",
   "execution_count": null,
   "metadata": {},
   "outputs": [],
   "source": [
    "import json\n",
    "\n",
    "# Suponiendo que config es un diccionario y mysql_hostname es una cadena\n",
    "data_to_share = {\n",
    "    'mysql_hostname': mysql_hostname,\n",
    "    'postgresql_hostname': postgresql_hostname,\n",
    "    'EC2_instance_id': instance_id,\n",
    "    'KEY_PAIR': key_name\n",
    "}\n",
    "\n",
    "with open('../shared_data.json', 'w') as outfile:\n",
    "    json.dump(data_to_share, outfile)"
   ]
  },
  {
   "cell_type": "code",
   "execution_count": null,
   "metadata": {},
   "outputs": [],
   "source": [
    "# Eliminar la base de datos MySQL de transacciones\n",
    "try:\n",
    "    response = aws_rds_conn.delete_db_instance(\n",
    "        DBInstanceIdentifier=config.get('TRANSACC', 'DB_INSTANCE_ID'),\n",
    "        SkipFinalSnapshot=True\n",
    "    )\n",
    "    print(response)\n",
    "except Exception as ex:\n",
    "    print(\"Error al eliminar la base de datos MySQL:\", ex)\n"
   ]
  },
  {
   "cell_type": "code",
   "execution_count": null,
   "metadata": {},
   "outputs": [],
   "source": [
    "# Eliminar la base de datos PostgreSQL para DWH\n",
    "try:\n",
    "    response = aws_rds_conn.delete_db_instance(\n",
    "        DBInstanceIdentifier=config.get('DWH', 'DB_INSTANCE_ID'),\n",
    "        SkipFinalSnapshot=True\n",
    "    )\n",
    "    print(response)\n",
    "except Exception as ex:\n",
    "    print(\"Error al eliminar la base de datos PostgreSQL:\", ex)\n",
    "\n"
   ]
  },
  {
   "cell_type": "code",
   "execution_count": null,
   "metadata": {},
   "outputs": [],
   "source": [
    "# Eliminar la instancia EC2\n",
    "try:\n",
    "    response = aws_ec2_conn.terminate_instances(\n",
    "        InstanceIds=[instance_id]\n",
    "    )\n",
    "    print(response)\n",
    "except Exception as ex:\n",
    "    print(\"Error al eliminar la instancia EC2:\", ex)"
   ]
  },
  {
   "cell_type": "code",
   "execution_count": null,
   "metadata": {},
   "outputs": [],
   "source": [
    "try:\n",
    "    response = aws_ec2_conn.delete_key_pair(\n",
    "        KeyName=config.get('EC2', 'KEY_PAIR')\n",
    "    )\n",
    "    print(response)\n",
    "except Exception as ex:\n",
    "    print(\"Error al eliminar el par de claves:\", ex)"
   ]
  }
 ],
 "metadata": {
  "kernelspec": {
   "display_name": "Python 3 (ipykernel)",
   "language": "python",
   "name": "python3"
  },
  "language_info": {
   "codemirror_mode": {
    "name": "ipython",
    "version": 3
   },
   "file_extension": ".py",
   "mimetype": "text/x-python",
   "name": "python",
   "nbconvert_exporter": "python",
   "pygments_lexer": "ipython3",
   "version": "3.11.7"
  }
 },
 "nbformat": 4,
 "nbformat_minor": 4
}
